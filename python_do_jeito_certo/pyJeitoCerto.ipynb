{
 "cells": [
  {
   "cell_type": "markdown",
   "metadata": {},
   "source": [
    "# Livro Python do jeito certo."
   ]
  },
  {
   "cell_type": "markdown",
   "metadata": {},
   "source": [
    "#### Ex1.py"
   ]
  },
  {
   "cell_type": "code",
   "execution_count": 2,
   "metadata": {},
   "outputs": [
    {
     "name": "stdout",
     "output_type": "stream",
     "text": [
      "Hello World!\n",
      "Hello Again.\n",
      "I like typing this.\n",
      "This is fun.\n",
      "Yay! Printing.\n",
      "I'd much rather you 'not'.\n",
      "I\"said\" do not touch this.\n"
     ]
    }
   ],
   "source": [
    "print(\"Hello World!\")\n",
    "print(\"Hello Again.\")\n",
    "print(\"I like typing this.\")\n",
    "print(\"This is fun.\")\n",
    "print('Yay! Printing.')\n",
    "print(\"I'd much rather you 'not'.\")\n",
    "print('I\"said\" do not touch this.')\n"
   ]
  },
  {
   "cell_type": "markdown",
   "metadata": {},
   "source": [
    "#### Exercicio Simulado.    "
   ]
  },
  {
   "cell_type": "code",
   "execution_count": 7,
   "metadata": {},
   "outputs": [
    {
     "name": "stdout",
     "output_type": "stream",
     "text": [
      "Hello World!\n",
      "\n",
      "Hello Again.\n",
      "This is fun.\n",
      "\n",
      "I'd much rather you 'not'.\n",
      "Hello Again.\n"
     ]
    }
   ],
   "source": [
    "# 1 - Faça o script imprimir outra linha.\n",
    "\n",
    "print(\"Hello World!\\n\")\n",
    "print(\"Hello Again.\")\n",
    "\n",
    "\n",
    "# 2 - Faça o script imprimir apenas uma das linhas\n",
    "\n",
    "# print(\"Hello World!\")\n",
    "# print(\"Hello Again.\")\n",
    "# print(\"I like typing this.\")\n",
    "print(\"This is fun.\\n\")\n",
    "# print('Yay! Printing.')\n",
    "print(\"I'd much rather you 'not'.\")\n",
    "#print('I\"said\" do not touch this.')\n",
    "\n",
    "# 3 - Coloque um caractere # (cerquilha) no inicio de uma linha. O que ele fez? Tente descobrir.\n",
    "\n",
    "# print(\"Hello World!\")\n",
    "print(\"Hello Again.\") \n",
    "# print(\"I like typing this.\")\n",
    "\n",
    "# Ele comenta a linha e isso faz com que o interpretador ignore a linha comentada."
   ]
  }
 ],
 "metadata": {
  "kernelspec": {
   "display_name": "Python 3",
   "language": "python",
   "name": "python3"
  },
  "language_info": {
   "codemirror_mode": {
    "name": "ipython",
    "version": 3
   },
   "file_extension": ".py",
   "mimetype": "text/x-python",
   "name": "python",
   "nbconvert_exporter": "python",
   "pygments_lexer": "ipython3",
   "version": "3.11.9"
  }
 },
 "nbformat": 4,
 "nbformat_minor": 2
}
