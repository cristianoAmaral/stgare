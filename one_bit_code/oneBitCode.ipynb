{
 "cells": [
  {
   "cell_type": "markdown",
   "metadata": {},
   "source": [
    "### Capitulo 01"
   ]
  },
  {
   "cell_type": "markdown",
   "metadata": {},
   "source": [
    "#### 09-print.py"
   ]
  },
  {
   "cell_type": "code",
   "execution_count": null,
   "metadata": {},
   "outputs": [],
   "source": [
    "print(\"Olá Mundo!\")\n",
    "print(\"Aprendendo a Linguagem Python!\")"
   ]
  },
  {
   "cell_type": "markdown",
   "metadata": {},
   "source": [
    "#### 10 - Tipos.py"
   ]
  },
  {
   "cell_type": "code",
   "execution_count": null,
   "metadata": {},
   "outputs": [],
   "source": [
    "name = \"Resident Evil 4 Remake\"\n",
    "yearLaunch = 2023\n",
    "gamePrice = 300.00\n",
    "planInclude = False\n",
    "\n",
    "print(name)\n",
    "print(yearLaunch)\n",
    "print(gamePrice)\n",
    "print(planInclude)\n",
    "\n",
    "print(type(name))\n",
    "print(type(yearLaunch))\n",
    "print(type(gamePrice))\n",
    "print(type(planInclude))\n",
    "\n"
   ]
  },
  {
   "cell_type": "markdown",
   "metadata": {},
   "source": [
    "#### 12 - Lendo dados com input"
   ]
  },
  {
   "cell_type": "code",
   "execution_count": null,
   "metadata": {},
   "outputs": [],
   "source": [
    "# Utilizando o Input\n",
    "'''\n",
    "    Jogateca.com.br\n",
    "'''\n",
    "name = input(\"Digite o nome do jogo.\\n\")\n",
    "yearLaunch = int(input(\"Digite o ano do jogo..\\n\"))\n",
    "gamePrice = float(input(\"Digite o preço do jogo.\\n\"))\n",
    "planInclude = input(\"Está incluso no serviço mensal?.\\n\")\n",
    "\n",
    "print(name)\n",
    "print(yearLaunch)\n",
    "print(f\"{gamePrice:.2f}\")\n",
    "print(planInclude)\n",
    "\n",
    "\n"
   ]
  },
  {
   "cell_type": "markdown",
   "metadata": {},
   "source": [
    "#### 13 - Aprendendo a Concatenar valores"
   ]
  },
  {
   "cell_type": "code",
   "execution_count": null,
   "metadata": {},
   "outputs": [],
   "source": [
    "name = input(\"Digite o nome do jogo.\\n\")\n",
    "yearLaunch = int(input(\"Digite o ano de lançamento do jogo.\\n\"))\n",
    "gamePrice = float(input(\"Digite o preço do jogo.\\n\"))\n",
    "planInclude= input(\"Está incluido no plano.\\n\")\n",
    "\n",
    "print(\"### Dados do Jogo ###\")\n",
    "print(\"========================\")\n",
    "\n",
    "# Alternativa 1\n",
    "print(\"Nome do jogo: \", name)\n",
    "print(\"Ano de Lançamento: \", yearLaunch)\n",
    "print(f\"Preço do Jogo: {gamePrice:.2f}\")\n",
    "print(\"EStá incluido no plano: \", planInclude)\n",
    "\n",
    "print()\n",
    "\n",
    "# Alternativa 2\n",
    "print(\"Nome do Jogo: \", name, \"\\nAno de lançamento: \", yearLaunch, \"\\nPreço do jogo: \", gamePrice, \"\\nEstá incluso no serviço? \", planInclude)\n",
    "\n",
    "print()\n",
    "# Alternativa 3\n",
    "print(f\"Nome do jogo: {name}, \\nAno de lançamento: {yearLaunch}, \\nPreço do jogo: {gamePrice:.2f} , \\nEstá incluso no serviço: {planInclude}\")"
   ]
  },
  {
   "cell_type": "markdown",
   "metadata": {},
   "source": [
    "#### 14 - Utilizando operadores Aritiméticos e Relacionais"
   ]
  },
  {
   "cell_type": "code",
   "execution_count": null,
   "metadata": {},
   "outputs": [],
   "source": [
    "num1 = int(input(\"Digite o primeiro número: \"))\n",
    "num2 = int(input(\"Digite o segundo número:\"))\n",
    "\n",
    "# Aritméticos (3 % 2 = 1) | 4² = 4 * 4\n",
    "sum = num1 + num2\n",
    "sub = num1 - num2\n",
    "div = num1 / num2\n",
    "mult = num1 * num2\n",
    "mod = num1 % num2\n",
    "exp = num1 ** num2\n",
    "print(f\"Resto da divisão de {num1} por {num2} é {mod}\")\n",
    "print(f\"Potência do número {num1} por {num2} é {exp}\")\n",
    "\n",
    "# Comparação\n",
    "bigger = num1 > num2\n",
    "smaller = num1 < num2\n",
    "equal = num1 == num2\n",
    "different = num1 != num2\n",
    "bigger_equal = num1 >= num2\n",
    "smaller_equal = num1 <= num2\n",
    "\n",
    "print(f\"Os números {num1} e {num2} são iguais? {equal}\")\n",
    "print(f\"O número {num1} é maior ou igual a {num2}? {bigger_equal}\")\n",
    "\n",
    "# Atribuição\n",
    "num1 += 1 # num1 = num1 + 1\n",
    "num1 -= 1 # num1 = num1 - 1\n",
    "num1 *= 1 # num1 = num1 * 1\n",
    "num1 /= 1 # num1 = num1 / 1\n",
    "num1 *= 1 # num1 = num1 * 1\n",
    "num1 /= 1 # num1 = num1 / 1\n",
    "\n",
    "\n"
   ]
  },
  {
   "cell_type": "markdown",
   "metadata": {},
   "source": [
    "#### 15 Exercicios \"Antecessor e Sucessor\" e \"Média de 4 Notas\"'"
   ]
  },
  {
   "cell_type": "code",
   "execution_count": null,
   "metadata": {},
   "outputs": [],
   "source": [
    "# Antecessor e Sucessor de um número\n",
    "\n",
    "# Escreva um programa em python que leia um número e represente o antecessor e o sucesssor do número lido.\n",
    "\n",
    "num = int(input(\"Digite o número desejado: \"))\n",
    "ante = num - 1\n",
    "suce = num + 1\n",
    "\n",
    "print(f\"O número digitado é {num} o seu antecessor é {ante} e o seu sucessor é {suce}\")"
   ]
  },
  {
   "cell_type": "code",
   "execution_count": null,
   "metadata": {},
   "outputs": [],
   "source": [
    "# Média de 4 números\n",
    "\n",
    "# Escreva um programa em Python que leia 4 números e calcule a média entre esses números\n",
    "\n",
    "nota1 = float(input(\"Digite o primeiro número\"))\n",
    "nota2 = float(input(\"Digite o segundo número\"))\n",
    "nota3 = float(input(\"Digite o terceiro número\"))\n",
    "nota4 = float(input(\"Digite o quarto número\"))\n",
    "\n",
    "media = (nota1 + nota2 + nota3 + nota4) / 4\n",
    "\n",
    "print(f\"A média das notas é {media:.2f}\")"
   ]
  },
  {
   "cell_type": "markdown",
   "metadata": {},
   "source": [
    "#### 17 - Utiliação de Strings"
   ]
  },
  {
   "cell_type": "code",
   "execution_count": null,
   "metadata": {},
   "outputs": [],
   "source": [
    "gameName = 'Fifa 23'\n",
    "gameName2 = 'fifa 23'\n",
    "\n",
    "print(gameName)\n",
    "print(gameName2)\n",
    "\n",
    "print(gameName == gameName2) # Python é case sensitive\n",
    "gameDescription = \"\"\"\n",
    "Fifa é uma jogo de futebol\n",
    "desenvolvido pela EA Sports\n",
    "e que possibilita jogar localmente ou online\n",
    "\"\"\"\n",
    "\n",
    "print(gameDescription)"
   ]
  },
  {
   "cell_type": "markdown",
   "metadata": {},
   "source": [
    "#### 18 - Operações com Strings "
   ]
  },
  {
   "cell_type": "code",
   "execution_count": null,
   "metadata": {},
   "outputs": [],
   "source": [
    "gameDescription2 = '''\n",
    "Fifa 23 é um jogo de futebol\n",
    "desenvolvido pela EA Sports\n",
    "e que possibilita jogar \n",
    "localmente ou online.\n",
    "'''\n",
    "\n",
    "line = \"=\"\n",
    "gameName = \"Fifa\"\n",
    "gameVersion = \" 2023\"\n",
    "gameFullName = gameName + gameVersion\n",
    "\n",
    "print(line * 30)\n",
    "print(gameFullName)\n",
    "print(gameDescription2)\n",
    "print(\"Fifa\" in gameDescription2)\n",
    "print(\"Futebol\" in gameDescription2)\n",
    "print(line * 30)\n",
    "\n",
    "\n",
    "# 1 Operação de  concatenação de Strings.\n",
    "print(line * 25)\n",
    "print(gameFullName)\n",
    "\n",
    "# 2 - Operação de Multiplicação de Strings.\n",
    "print(line * 25)\n",
    "\n",
    "# 3 - Porcurar palavra dentro de um texto.\n",
    "print(\"Fifa\" in gameDescription2)"
   ]
  },
  {
   "cell_type": "markdown",
   "metadata": {},
   "source": [
    "#### 19 - Gernando uma substring apartir de uma string (SLICE)"
   ]
  },
  {
   "cell_type": "code",
   "execution_count": null,
   "metadata": {},
   "outputs": [],
   "source": [
    "# Utilizando o Slice ou fatiamento de string\n",
    "\n",
    "gameName = \"Fifa 2024\"\n",
    "gameDescription = '''\n",
    "Fifa 24 é um jogo de futebol\n",
    "desenvolvido pela EA Sports\n",
    "e que possibilita jogar \n",
    "localmente ou online.\n",
    "'''\n",
    "# Verificando o tamanho da string\n",
    "print(len(gameName))\n",
    "print(len(gameDescription))\n",
    "\n",
    "\n",
    "# String[inicio:fim] - O indice começa em 0 | indice final -1\n",
    "\n",
    "# 1- Busque toda string a partir da primeira posição.\n",
    "print(gameName[0:])\n",
    "# 2- Busque toda string até a ultima posição\n",
    "print(gameName[:9])\n",
    "# 3- Busque toda string da terceira até a ultima posição\n",
    "print(gameName[2:])\n",
    "\n",
    "\"\"\"\n",
    "String[inicio:fim:passo] - O indice começa em 0 | indice final -1\n",
    "passo - determina o incremento. Por Padrão é o 1. \n",
    "\"\"\"\n",
    "\n",
    "# 4- Busque toda a string de 2 2m 2 caracteres\n",
    "print(gameName[::2])\n",
    "\n",
    "# 5 - Busque toda a string nos indeces impares\n",
    "print(gameName[1::2])\n",
    "\n",
    "# 6 - Inverta uma sring de trás para frente\n",
    "print(gameName[::-1])"
   ]
  },
  {
   "cell_type": "markdown",
   "metadata": {},
   "source": [
    "#### 20 - Métodos em strings"
   ]
  },
  {
   "cell_type": "code",
   "execution_count": null,
   "metadata": {},
   "outputs": [],
   "source": [
    "gameName = \"Resident Evil\"\n",
    "gameDescription = \"\"\"\n",
    "Resident Evil jogo de terror que, \n",
    "desafia a coragem do jogador, com \n",
    "recursos limitados, durante o jogo. \n",
    "Realmente um jogo de sobrevivência.\n",
    "\"\"\"\n",
    "\n",
    "#print(gameName)\n",
    "#print(gameDescription)\n",
    "\n",
    "print(len(gameName))\n",
    "print(len(gameDescription))\n",
    "\n",
    "print(gameName.upper()) # Retorna String em Maiusculo\n",
    "print(gameName.lower()) # Retorna a String em Minusculo\n",
    "print(gameName.capitalize()) # Apenas a primeira letra em maiusculo\n",
    "print(gameName.title()) # Apenas a primeira letra em maiusculo\n",
    "print(gameName.center(17, '-')) # Retorna a string centralizada com caractere de preenchimento.\n",
    "print(gameName.find(\"a\")) # retona a posição de um detreminado caractere.\n",
    "print(gameDescription.count(\"g\")) # conta caracateres\n",
    "print(gameDescription.count(\"a\")) # conta caracteres\n",
    "print(gameDescription.replace('Resident Evil', 'Silent Hill'))\n",
    "print(gameDescription.split(\",\"))"
   ]
  },
  {
   "cell_type": "markdown",
   "metadata": {},
   "source": [
    "#### 21 - Exercicio 2: Substituindo caracter por string | Gerando strings"
   ]
  },
  {
   "cell_type": "code",
   "execution_count": null,
   "metadata": {},
   "outputs": [],
   "source": [
    "# Substituindo caractere repetido\n",
    "# Escreva um programa Python para obter uma string de uma determinada string em que todas as ocorrências de seu primeiro caractere foram alteradas para '$', \n",
    "# exceto o próprio primeiro caractere\n",
    "# Ex:fifa 23 → **fi#a 23**\n",
    "\n",
    "name = \"Fifa 23\"\n",
    "char = name[0].lower()\n",
    "newName = name.replace(char,'$')\n",
    "newName = char + newName[1:]\n",
    "print(newName)\n",
    "\n",
    "\n",
    "# Substituindo caractere repetido\n",
    "# Escreva um programa Python para obter uma única string de duas strings fornecidas, separadas por um espaço e troque os dois primeiros caracteres de cada string.\n",
    "# Ex: abc xyz → **xyc abz**\n",
    "\n",
    "alfa1 = \"abc\"\n",
    "alfa2 = \"xyz\"\n",
    "char1 = alfa1[2]\n",
    "char2 = alfa2[2]\n",
    "\n",
    "alfa1 = alfa1[:2].replace(\"ab\",\"xy\")\n",
    "alfa2 = alfa2[:2].replace(\"xy\",\"ab\")\n",
    "print(alfa1 + char1 + \" \"+ alfa2 + char2)\n",
    "\n",
    "\n",
    "\n",
    "\n"
   ]
  },
  {
   "cell_type": "markdown",
   "metadata": {},
   "source": [
    "#### 23 - Utilizando listas em Python"
   ]
  },
  {
   "cell_type": "code",
   "execution_count": null,
   "metadata": {},
   "outputs": [],
   "source": [
    "gameFifa = [\"Fifa 23\", 2023, 90.50, True]\n",
    "print(gameFifa)\n",
    "\n",
    "gameList = [\"Resident Evil 4\", \"Star Wars jedi Survivor\",\"The legend of Zelda\", \"Read Dead 2 Redemption\",\"Mario Odyssey\"]\n",
    "print(gameList)\n",
    "\n",
    "# Buscar os dois primeiros itens da lista\n",
    "print(gameList[:2])\n",
    "\n",
    "# Buscar os dois ultimos itens da lista\n",
    "print(gameList[2:4])\n",
    "\n",
    "# Buscar o ultimo item da lista\n",
    "print(gameList[-1])\n",
    "\n",
    "# Buscar item por posição na lista\n",
    "print(gameList[2])\n",
    "\n",
    "# Buscar jogos até determinada posição\n",
    "print(gameList[:3])\n",
    "\n",
    "# Buscar jogos de uma posição em diante\n",
    "print(gameList[1:4])"
   ]
  },
  {
   "cell_type": "markdown",
   "metadata": {},
   "source": [
    "#### 24 - Principais Métodos em Python"
   ]
  },
  {
   "cell_type": "code",
   "execution_count": null,
   "metadata": {},
   "outputs": [],
   "source": [
    "gameList = [\"Resident Evil 4\", \"Star Wars jedi Survivor\",\"The legend of Zelda\", \"Read Dead 2 Redemption\",\"Mario Odyssey\", \"Luigi Mansion 3\"]\n",
    "\n",
    "print(type(gameList))\n",
    "\n",
    "# Método len() Verifica o tamanho da lista\n",
    "print(len(gameList))\n",
    "\n",
    "# 2 - Recuperar um item da lista pelo índice\n",
    "print(gameList.index(\"Mario Odyssey\"))\n",
    "\n",
    "# 3 - Adicionar item ao final da Lista.\n",
    "gameList.append(\"GTA 5\")\n",
    "print(gameList)\n",
    "\n",
    "# 4 - Ordenar a Lista \n",
    "gameList.sort()\n",
    "print(gameList)\n",
    "\n",
    "# 5 - Copiar os itens de uma lista para outra\n",
    "gameReset = gameList.copy()\n",
    "gameReset.remove(\"Star Wars jedi Survivor\")\n",
    "print(gameReset)\n",
    "\n",
    "# 6 - Remover todos os itens da Lista.\n",
    "gameList.clear()\n",
    "print(gameList)"
   ]
  },
  {
   "cell_type": "markdown",
   "metadata": {},
   "source": [
    "#### 25 - Utilizando o tipo de dado Tupla"
   ]
  },
  {
   "cell_type": "code",
   "execution_count": null,
   "metadata": {},
   "outputs": [],
   "source": [
    "gameTupla = (\"Fifa 23\", \"Read Dead 2\", \"Star Wars\", \"Mario Odyssey\", \"The Legend of Zelda\")\n",
    "\n",
    "print(len(gameTupla))\n",
    "# name = (\"Rodrigo\") isto é uma string se tiver uma virgula separando valores será uma Tupla\n",
    "print(gameTupla)\n",
    "print(type(gameTupla))\n",
    "\n",
    "# 1 - Buscar os dois primeiros itens da Tupla\n",
    "print(gameTupla[:2])\n",
    "\n",
    "# 2 - Busque o ultimo item da lista\n",
    "print(gameTupla[-1])\n",
    "\n",
    "# 3 - Buscar jogos até uma determinada posição\n",
    "print(gameTupla[:3])\n",
    "\n",
    "# 4 - Buscar jogos de uma posição em diante\n",
    "print(gameTupla[2:])\n",
    "\n",
    "# 5 - recuperar um indice da Tuple pelo indice\n",
    "print(gameTupla[2])\n",
    "\n",
    "\n",
    "# - Não possibilita adicionar valores na Tupla\n",
    "# - Não possibilita remover valores na Tupla\n",
    "# - Não possobilita ordenar valores na Tupla"
   ]
  },
  {
   "cell_type": "markdown",
   "metadata": {},
   "source": [
    "#### 26 - Utilizando tipo de dados Set"
   ]
  },
  {
   "cell_type": "code",
   "execution_count": null,
   "metadata": {},
   "outputs": [],
   "source": [
    "gameSet = {\"Fifa 23\", \"Read Dead\", \"The Legend Zelda\", \"Mario Odyssey\", \"Resident Evil\"}\n",
    "\n",
    "# Verificar o Tipo Set\n",
    "print(type(gameSet))\n",
    "\n",
    "# 1 - Buscar o tamanho do set\n",
    "print(len(gameSet))\n",
    "\n",
    "# 2 - True e 1 são considerados o mesmo valor.\n",
    "exampleSet = {\"Fifa 23\", True, 1, 90.50}\n",
    "print(exampleSet)\n",
    "\n",
    "# 3 - Adicionar item de outro set\n",
    "gameSet.update(exampleSet)\n",
    "print(gameSet)\n",
    "\n",
    "# 4 - Remover um iten no set\n",
    "gameSet.remove(True)\n",
    "gameSet.remove(90.50)\n",
    "print(gameSet)\n",
    "\n",
    "# - Não possibilita rcuperar valores via fatiamento ou slice"
   ]
  },
  {
   "cell_type": "markdown",
   "metadata": {},
   "source": [
    "#### 27 - Utilizando Dicionário em Python   "
   ]
  },
  {
   "cell_type": "code",
   "execution_count": null,
   "metadata": {},
   "outputs": [],
   "source": [
    "gameFifa = {\n",
    " \"name\": \"Fifa 2022\",\n",
    " \"YearLaunch\": 2022,\n",
    " \"gamePrice\": 90.50,\n",
    " \"classification\": 8.5,\n",
    " \"genre\": [\"Esports\", \"Family\"]  \n",
    "}\n",
    "\n",
    "print(gameFifa)\n",
    "print(len(gameFifa))\n",
    "print(type(gameFifa))\n",
    "\n",
    "# 1 - Reuperar um elemmento do dicionário.\n",
    "print(gameFifa['genre'])\n",
    "print(gameFifa.get(\"classification\"))\n",
    "\n",
    "# 2 - Recuperar apenas as chaves do dicionário\n",
    "print(gameFifa.keys())\n",
    "\n",
    "# 3 - Buscar apenas os valores do dicionário\n",
    "print(gameFifa.values())\n",
    "\n",
    "# 4 - Buscar itens do dicionário como chave e valor.\n",
    "print(gameFifa.items())\n",
    "\n",
    "# 5 - Adicionar itens ao dicionário.\n",
    "gameFifa[\"players\"] = 2\n",
    "print(gameFifa)\n",
    "\n",
    "# 6 - Atualizar itens no dicionário.\n",
    "gameFifa.update({\"players\": 1})\n",
    "print(gameFifa)\n",
    "\n",
    "# 7 - Remmover itens no dicionário.\n",
    "gameFifa.pop(\"players\")\n",
    "print(gameFifa)"
   ]
  },
  {
   "cell_type": "markdown",
   "metadata": {},
   "source": [
    "#### 28 - Estudando dicionários aninhados."
   ]
  },
  {
   "cell_type": "code",
   "execution_count": 34,
   "metadata": {},
   "outputs": [
    {
     "name": "stdout",
     "output_type": "stream",
     "text": [
      "{   'dokey kong country': {   'classification': 9.5,\n",
      "                              'genre': ['plataforma', 'aventura'],\n",
      "                              'yearLaunch': 1996},\n",
      "    'mario odyssey': {   'classification': 10,\n",
      "                         'genre': ['3D', 'aventura'],\n",
      "                         'yearLaunch': 2017},\n",
      "    'resident evil 4': {   'classification': 9.8,\n",
      "                           'genre': ['ação', 'aventura'],\n",
      "                           'yearLaunch': 2023}}\n",
      "\n",
      "==================================================================\n",
      "\n",
      "{'dokey kong country': {'classification': 9.5,\n",
      "                        'genre': ['plataforma', 'aventura'],\n",
      "                        'yearLaunch': 1996},\n",
      " 'mario odyssey': {'classification': 10,\n",
      "                   'genre': ['3D', 'aventura'],\n",
      "                   'yearLaunch': 2017},\n",
      " 'resident evil 4': {'classification': 9.8,\n",
      "                     'genre': ['ação', 'aventura'],\n",
      "                     'yearLaunch': 2023}}\n",
      "\n",
      "==================================================================\n",
      "\n",
      "['3D', 'aventura']\n",
      "{'yearLaunch': 2017, 'classification': 10, 'genre': ['3D', 'aventura'], 'players': 1}\n",
      "============================================================\n",
      "{'dokey kong country': {'classification': 9.5,\n",
      "                        'genre': ['plataforma', 'aventura'],\n",
      "                        'yearLaunch': 1996},\n",
      " 'mario odyssey': {'classification': 10,\n",
      "                   'genre': ['3D', 'aventura'],\n",
      "                   'players': 1,\n",
      "                   'yearLaunch': 2017}}\n"
     ]
    }
   ],
   "source": [
    "import pprint\n",
    "gameDict = {\n",
    "    \"resident evil 4\":{\n",
    "        \"yearLaunch\": 2023,\n",
    "        \"classification\": 9.8,\n",
    "        \"genre\": [\"ação\", \"aventura\"]   \n",
    "    },\n",
    "    \"mario odyssey\":{\n",
    "        \"yearLaunch\": 2017,\n",
    "        \"classification\": 10,\n",
    "        \"genre\": [\"3D\", \"aventura\"]   \n",
    "    },\n",
    "    \"dokey kong country\":{\n",
    "        \"yearLaunch\": 1996,\n",
    "        \"classification\": 9.5,\n",
    "        \"genre\": [\"plataforma\", \"aventura\"]   \n",
    "    }\n",
    "}\n",
    "pp = pprint.PrettyPrinter(indent=4)\n",
    "pp.pprint(gameDict)\n",
    "print()\n",
    "print(\"==================================================================\")\n",
    "print()\n",
    "pp = pprint.PrettyPrinter(depth=4)\n",
    "pp.pprint(gameDict)\n",
    "\n",
    "print()\n",
    "print(\"==================================================================\")\n",
    "print()\n",
    "\n",
    "# 1 - buscar informação dentro de um dcionário aninhado.\n",
    "print(gameDict[\"mario odyssey\"][\"genre\"])\n",
    "\n",
    "# 2 - Adicionar um novo item\n",
    "gameDict[\"mario odyssey\"][\"players\"] = 1\n",
    "print(gameDict[\"mario odyssey\"])\n",
    "print(\"============================================================\")\n",
    "# 3 - Excluir um dicionário\n",
    "del gameDict[\"resident evil 4\"]\n",
    "pp.pprint(gameDict)\n",
    "\n"
   ]
  },
  {
   "cell_type": "markdown",
   "metadata": {},
   "source": [
    "#### 30 - Estudando if e else no Python"
   ]
  },
  {
   "cell_type": "code",
   "execution_count": null,
   "metadata": {},
   "outputs": [],
   "source": [
    "nome = input(\"Digite o nome do jogo:\\n\")\n",
    "ano = int(input(\"Digite o ano do jogo:\\n\"))\n",
    "classificacao = float(input(\"Digite a nota do jogo:\\n\"))\n",
    "\n",
    "if classificacao > 8.0:\n",
    "    print(f\"O jogo {nome} é bom. Recomendo Jogá-lo.\")\n",
    "else:\n",
    "    print(f\"O jogo {nome} ainda não atingiu uma boa nota. Por isso não recomendo.\")"
   ]
  },
  {
   "cell_type": "markdown",
   "metadata": {},
   "source": [
    "#### 31 - Estudando elif no Python."
   ]
  },
  {
   "cell_type": "code",
   "execution_count": 38,
   "metadata": {},
   "outputs": [
    {
     "name": "stdout",
     "output_type": "stream",
     "text": [
      "O Resultado da expressão é : 50.00\n"
     ]
    }
   ],
   "source": [
    "num1 = float(input(\"Digite o número 1:\\n\"))\n",
    "num2 = float(input(\"Digite o número 2:\\n\"))\n",
    "operation = input(\"Digite a operação desejada: + , - , * , / : \\n\")\n",
    "\n",
    "if operation == \"+\":\n",
    "    result = num1 + num2\n",
    "elif operation == \"-\":\n",
    "    result = num1 - num2\n",
    "elif operation == \"*\":\n",
    "    result = num1 * num2\n",
    "elif operation == \"/\":\n",
    "    result = num1 / num2\n",
    "else:\n",
    "    result = \"Valor digitado inválido.\"\n",
    "\n",
    "print(f\"O Resultado da expressão é : {result:.2f}\")"
   ]
  },
  {
   "cell_type": "markdown",
   "metadata": {},
   "source": [
    "#### 32 - Exercicio 3 - Cálculo distância | Aumento Funcionário."
   ]
  },
  {
   "cell_type": "code",
   "execution_count": 5,
   "metadata": {},
   "outputs": [
    {
     "name": "stdout",
     "output_type": "stream",
     "text": [
      "O valor da corrida desejda fica no valor de 87.50\n"
     ]
    }
   ],
   "source": [
    "\"\"\"\n",
    "## Cálculo da Distância\n",
    "\n",
    "Escreva um programa que pergunte a distância que um passageiro deseja percorrer em km.\n",
    "Calcule o preço da passagem, cobrando R$ 0,50 por km para viagens de até de 200 km, e R$\n",
    "0,35 para viagens mais longas.\n",
    "\n",
    "\"\"\"\n",
    "distancia = float(input(\"Quantos kilometros deseja percorrer?\\n\"))\n",
    "\n",
    "if distancia <= 200:\n",
    "    passagem = distancia * 0.50\n",
    "    print(f\"O valor da corrida desejada fica no valor de {passagem:.2f}\")\n",
    "elif distancia > 200:\n",
    "    passagem = distancia * 0.35\n",
    "    print(f\"O valor da corrida desejada fica no valor de {passagem:.2f}\")\n",
    "else :\n",
    "    print(f\"Forneça um valor valido para calculo da passagem\")\n",
    "\n",
    "\n"
   ]
  },
  {
   "cell_type": "code",
   "execution_count": 7,
   "metadata": {},
   "outputs": [
    {
     "name": "stdout",
     "output_type": "stream",
     "text": [
      "Seu novo salario é 1100.00\n"
     ]
    }
   ],
   "source": [
    "\n",
    "\"\"\"\n",
    "## Aumento salário funcionário\n",
    "\n",
    "Escreva um programa que pergunte o salário do funcionário e calcule o valor do aumento. Para\n",
    "salários superiores a R$ 1.250,00, calcule um aumento de 10%. Para os inferiores ou iguais, de\n",
    "15%.\n",
    "\n",
    "\"\"\"\n",
    "\n",
    "salario = float(input(\"Informe seu salario: \\n\"))\n",
    "if salario < 1250.00:\n",
    "    aumento = salario * 0.10\n",
    "    salario += aumento\n",
    "    print(f\"Seu novo salario é { salario:.2f}\")\n",
    "else:\n",
    "    aumento = salario * 0.15\n",
    "    salario += aumento\n",
    "    print(f\"Seu novo salario é { salario:.2f}\")\n",
    "\n",
    "\n",
    "    \n"
   ]
  },
  {
   "cell_type": "markdown",
   "metadata": {},
   "source": [
    "#### 34 - Estudo do For em Python"
   ]
  },
  {
   "cell_type": "code",
   "execution_count": null,
   "metadata": {},
   "outputs": [],
   "source": [
    "gamesList = [\"Fifa 2023\", \"God of War\", \"Read Dead 2\", \"Uncharted\", \"Mario World\"]\n",
    "\n",
    "# 1 Iterando valores de uma lista \n",
    "for game in gamesList:\n",
    "    print(game)\n",
    "    \n",
    "\n",
    "\n",
    "print()\n",
    "\n",
    "# 2 Quando a condição for atendida o Loop será encerrado\n",
    "\n",
    "for game in gamesList:\n",
    "    if game == \"Read Dead 2\":\n",
    "        break\n",
    "        \n",
    "    print(game)\n",
    "    \n",
    "print()\n",
    "\n",
    "# 3 - Quando a condição for atendida o loop vai para a próxima interação.\n",
    "\n",
    "for game in gamesList:\n",
    "    if game == \"Read Dead 2\":\n",
    "        continue       \n",
    "    print(game)\n",
    "\n",
    "print()    \n",
    "# 4 - Avaliação do jogo\n",
    "gameName = input(\"Digite o nome do game: \")\n",
    "gameRating = int(input(\"Digite quantas vezes deseja avaliar o game: \"))\n",
    "\n",
    "sum = 0 \n",
    "for i in range(gameRating):\n",
    "    note = float(input(\"Digite uma nota para o game: \"))\n",
    "    sum += note # sum = sum + note\n",
    "print(f\"Média de avaliação do game {gameName} é {sum/gameRating:.2f}\")\n",
    "\n"
   ]
  },
  {
   "cell_type": "markdown",
   "metadata": {},
   "source": [
    "#### 35 - Utilizando o Laço de repetição While."
   ]
  },
  {
   "cell_type": "code",
   "execution_count": 19,
   "metadata": {},
   "outputs": [
    {
     "name": "stdout",
     "output_type": "stream",
     "text": [
      "Média das avaliações do jogo 9.7 é 8.55\n"
     ]
    }
   ],
   "source": [
    "gameName = input(\"Digite o nome do jogo: \")\n",
    "qtdRating = 0\n",
    "totalRating = 0\n",
    "rating = 0\n",
    "average = 0\n",
    "\n",
    "while(rating != -1):\n",
    "    rating = float(input(\"informe a nota do jogo: \"))\n",
    "    if rating != -1:\n",
    "        totalRating += rating # totalRating = totalRating + trating\n",
    "        qtdRating += 1 # qtdRating = qtdRating + 1\n",
    "        average = totalRating / qtdRating\n",
    "print(f\"Média das avaliações do jogo {gameName} é {average:.2f}\")"
   ]
  },
  {
   "cell_type": "markdown",
   "metadata": {},
   "source": [
    "#### 36 - Utilizando a Listas e Comprehension"
   ]
  },
  {
   "cell_type": "code",
   "execution_count": null,
   "metadata": {},
   "outputs": [],
   "source": [
    "#  1 - Lista valores de 0 10 que sejam menor do que 4\n",
    "\n",
    "#for i in range(10):\n",
    "#    if i < 4:\n",
    "#        print(i)\n",
    "\n",
    "listNumbers = [ i for i in range(10) if i < 4 ]\n",
    "print(listNumbers)\n",
    "\n",
    "gameList = [\"Mario Odyssey\", \"DK Country\", \"Luigis Mansion\", \"Kirby\"]\n",
    "\n",
    "# 2 - Jogos que possuam a letra a\n",
    "newList = [ x for x in gameList if \"a\" in x ]\n",
    "print(newList)\n",
    "\n",
    "for y in gameList:\n",
    "    if \"a\" in y:\n",
    "        print(y)\n",
    "\n",
    "# 3 - Jogos que eu zerei\n",
    "\n",
    "gamesFinished = [f for f in gameList  if f != \"Kirby\" ]\n",
    "print(gamesFinished)\n",
    "\n",
    "for f in gamesFinished:\n",
    "    if f != \"Kirby\":\n",
    "        print(f)"
   ]
  },
  {
   "cell_type": "markdown",
   "metadata": {},
   "source": [
    "#### 37 - Exercicio 4 : Lançamento Foguete | Tabuada de números. "
   ]
  },
  {
   "cell_type": "code",
   "execution_count": null,
   "metadata": {},
   "outputs": [],
   "source": [
    "## Contagem Regressiva\n",
    "\n",
    "# Faça um programa para escrever a contagem regressiva do lançamento de um foguete. O programa deve \n",
    "# imprimir 10, 9, 8, …, 1, 0 e disparar um “beep”.\n",
    "import winsound\n",
    "contador = 10\n",
    "while contador >= 0:\n",
    "    print(f\"{contador}\")\n",
    "    contador -= 1\n",
    "winsound.Beep(2500, 500)\n",
    "\n",
    "\n",
    "\n",
    "\n",
    "\n"
   ]
  },
  {
   "cell_type": "code",
   "execution_count": null,
   "metadata": {},
   "outputs": [],
   "source": [
    "## Tabuada\n",
    "\n",
    "# Faça um programa que calcule a tabuada de um número, com valores iniciais e finais informados pelo usuário.\n",
    "\n",
    "num1 = int(input(\"Digite o primeiro número: \"))\n",
    "operation = int(input(\"Digite a operação desejada: 1:adição 2: subtração 3: multiplicaçao e 4: divisão\"))\n",
    "\n",
    "if operation == 1:\n",
    "    for i in range(11):\n",
    "        print(f\"{i}  +  {num1}  =  {i + num1}\")\n",
    "elif operation == 2:\n",
    "    for i in range(11):\n",
    "        print(f\"{i}  -  {num1}  =  {i - num1}\")\n",
    "elif operation == 3:\n",
    "    for i in range(11):\n",
    "        print(f\"{i}  *  {num1}  =  {i * num1}\")\n",
    "elif operation == 4:\n",
    "    for i in range(11):\n",
    "        print(f\"{i}  /  {num1}  =  {i / num1}\")\n",
    "else:\n",
    "    print(f\"Digite uma opção valida\")\n",
    "\n",
    "\n",
    "\n",
    "    \n",
    "\n"
   ]
  },
  {
   "cell_type": "markdown",
   "metadata": {},
   "source": [
    "#### 39 - Utilizando Funções em Python"
   ]
  },
  {
   "cell_type": "code",
   "execution_count": null,
   "metadata": {},
   "outputs": [],
   "source": [
    "# 1 - Função para imprimir Hello World.\n",
    "\n",
    "def wellcome():\n",
    "    print(\"Hello World!\")\n",
    "\n",
    "\n",
    "wellcome()\n",
    "\n",
    "# 2 - função para somar dois números.\n",
    "\n",
    "def soma(x, y):\n",
    "    return(f\"A soma de {x} + {y} é = {x + y}\")\n",
    "\n",
    "print(soma(5, 6))\n",
    "\n",
    "\n",
    "# 3 - Função para cadastrar um jogo.\n",
    "\n",
    "def create_geme():\n",
    "    name = input(\"Digite o nome do jogo: \")\n",
    "    ano_jogo = float(input(\"Digite o ano do jogo: \"))\n",
    "    preco_jogo = float(input(\"Digite o preço do jogo: \"))\n",
    "    nota_jogo = float(input(\"Digite a nota de avaliação do jogo: \"))\n",
    "    \n",
    "    print(f\"{name} - R$ {preco_jogo:.2f} \")\n",
    "\n",
    "create_geme()\n",
    "create_geme()\n"
   ]
  },
  {
   "cell_type": "markdown",
   "metadata": {},
   "source": [
    "#### 40 - Utilizando Função com Argumentos. "
   ]
  },
  {
   "cell_type": "code",
   "execution_count": 20,
   "metadata": {},
   "outputs": [
    {
     "name": "stdout",
     "output_type": "stream",
     "text": [
      "Cristiano Amaral\n",
      "17\n",
      "Eu moro no  Canada\n",
      "Média de avaliação do jogo Legend Of Zelda é : 9.5\n"
     ]
    }
   ],
   "source": [
    "def full_name(fname, lname):\n",
    "    print(f\"{fname} {lname}\")\n",
    "\n",
    "def sum(a, b):\n",
    "    print(a + b)\n",
    "\n",
    "def address(country = \"Brasil\"):\n",
    "    print(\"Eu moro no \", country)\n",
    "\n",
    "\n",
    "full_name(\"Cristiano\", \"Amaral\")\n",
    "\n",
    "sum(5 , 12)\n",
    "\n",
    "address(\"Canada\")\n",
    "\n",
    "\n",
    "def rating_game(qtdRating):\n",
    "    game_name = input(\"Digite o nome do jogo:\" )\n",
    "    sum = 0 \n",
    "    for i in range(qtdRating):\n",
    "        note = float(input(\"Digite a nota do game: \"))\n",
    "        sum += note\n",
    "    print(f\"Média de avaliação do jogo {game_name} é : {sum/qtdRating}\")\n",
    "\n",
    "rating = int(input(\"Digite Quantas avaliações deseja fazer no jogo: \"))\n",
    "rating_game(rating)\n",
    "                      "
   ]
  }
 ],
 "metadata": {
  "kernelspec": {
   "display_name": "Python 3",
   "language": "python",
   "name": "python3"
  },
  "language_info": {
   "codemirror_mode": {
    "name": "ipython",
    "version": 3
   },
   "file_extension": ".py",
   "mimetype": "text/x-python",
   "name": "python",
   "nbconvert_exporter": "python",
   "pygments_lexer": "ipython3",
   "version": "3.11.9"
  }
 },
 "nbformat": 4,
 "nbformat_minor": 2
}
